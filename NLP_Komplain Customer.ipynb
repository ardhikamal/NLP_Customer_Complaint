{
 "cells": [
  {
   "cell_type": "markdown",
   "id": "368eeed1",
   "metadata": {},
   "source": [
    "# **<span style=\"color:\t#F50C0C;\">Introduction</span>**\n",
    "\n",
    "The dataframe consists of <b>162421</b> complaints for <b>5 products</b>. The dataframe is considerably <b>imbalanced</b>. \n",
    "\n",
    "The notebook implements <b>Bi-LSTM</b> model for <b>multiclass</b> classification of product complaints. Based on the provided <b>complaints</b>, the goal of the notebook is to accurately <b>identify the product</b>.    "
   ]
  },
  {
   "cell_type": "markdown",
   "id": "37f5a4b8",
   "metadata": {},
   "source": [
    "# **<span style=\"color:\t#F50C0C;\">Import Libraries</span>**"
   ]
  },
  {
   "cell_type": "code",
   "execution_count": 1,
   "id": "3ba6c3ed",
   "metadata": {},
   "outputs": [
    {
     "data": {
      "text/plain": [
       "''"
      ]
     },
     "execution_count": 1,
     "metadata": {},
     "output_type": "execute_result"
    }
   ],
   "source": [
    "import pandas as pd\n",
    "import re\n",
    "import matplotlib.pyplot as plt\n",
    "import tensorflow as tf\n",
    "\n",
    "from tensorflow.python.client import device_lib\n",
    "tf.test.gpu_device_name()"
   ]
  },
  {
   "cell_type": "markdown",
   "id": "87eef3d2",
   "metadata": {},
   "source": [
    "# **<span style=\"color:\t#F50C0C;\">1. Reading and Analyzing Dataframe</span>**"
   ]
  },
  {
   "cell_type": "code",
   "execution_count": 2,
   "id": "98f6d821",
   "metadata": {},
   "outputs": [
    {
     "data": {
      "text/html": [
       "<div>\n",
       "<style scoped>\n",
       "    .dataframe tbody tr th:only-of-type {\n",
       "        vertical-align: middle;\n",
       "    }\n",
       "\n",
       "    .dataframe tbody tr th {\n",
       "        vertical-align: top;\n",
       "    }\n",
       "\n",
       "    .dataframe thead th {\n",
       "        text-align: right;\n",
       "    }\n",
       "</style>\n",
       "<table border=\"1\" class=\"dataframe\">\n",
       "  <thead>\n",
       "    <tr style=\"text-align: right;\">\n",
       "      <th></th>\n",
       "      <th>Unnamed: 0</th>\n",
       "      <th>product</th>\n",
       "      <th>narrative</th>\n",
       "    </tr>\n",
       "  </thead>\n",
       "  <tbody>\n",
       "    <tr>\n",
       "      <th>0</th>\n",
       "      <td>0</td>\n",
       "      <td>credit_card</td>\n",
       "      <td>purchase order day shipping amount receive pro...</td>\n",
       "    </tr>\n",
       "    <tr>\n",
       "      <th>1</th>\n",
       "      <td>1</td>\n",
       "      <td>credit_card</td>\n",
       "      <td>forwarded message date tue subject please inve...</td>\n",
       "    </tr>\n",
       "    <tr>\n",
       "      <th>2</th>\n",
       "      <td>2</td>\n",
       "      <td>retail_banking</td>\n",
       "      <td>forwarded message cc sent friday pdt subject f...</td>\n",
       "    </tr>\n",
       "    <tr>\n",
       "      <th>3</th>\n",
       "      <td>3</td>\n",
       "      <td>credit_reporting</td>\n",
       "      <td>payment history missing credit report speciali...</td>\n",
       "    </tr>\n",
       "    <tr>\n",
       "      <th>4</th>\n",
       "      <td>4</td>\n",
       "      <td>credit_reporting</td>\n",
       "      <td>payment history missing credit report made mis...</td>\n",
       "    </tr>\n",
       "  </tbody>\n",
       "</table>\n",
       "</div>"
      ],
      "text/plain": [
       "   Unnamed: 0           product  \\\n",
       "0           0       credit_card   \n",
       "1           1       credit_card   \n",
       "2           2    retail_banking   \n",
       "3           3  credit_reporting   \n",
       "4           4  credit_reporting   \n",
       "\n",
       "                                           narrative  \n",
       "0  purchase order day shipping amount receive pro...  \n",
       "1  forwarded message date tue subject please inve...  \n",
       "2  forwarded message cc sent friday pdt subject f...  \n",
       "3  payment history missing credit report speciali...  \n",
       "4  payment history missing credit report made mis...  "
      ]
     },
     "execution_count": 2,
     "metadata": {},
     "output_type": "execute_result"
    }
   ],
   "source": [
    "# Reading dataframe\n",
    "df = pd.read_csv('C:/Work/Data Science/My portofolio/NLP/Customer Complain/complaints_processed.csv')\n",
    "df.head()"
   ]
  },
  {
   "cell_type": "code",
   "execution_count": 3,
   "id": "1fd46f08",
   "metadata": {},
   "outputs": [
    {
     "data": {
      "text/html": [
       "<div>\n",
       "<style scoped>\n",
       "    .dataframe tbody tr th:only-of-type {\n",
       "        vertical-align: middle;\n",
       "    }\n",
       "\n",
       "    .dataframe tbody tr th {\n",
       "        vertical-align: top;\n",
       "    }\n",
       "\n",
       "    .dataframe thead th {\n",
       "        text-align: right;\n",
       "    }\n",
       "</style>\n",
       "<table border=\"1\" class=\"dataframe\">\n",
       "  <thead>\n",
       "    <tr style=\"text-align: right;\">\n",
       "      <th></th>\n",
       "      <th>product</th>\n",
       "      <th>tweet</th>\n",
       "    </tr>\n",
       "  </thead>\n",
       "  <tbody>\n",
       "    <tr>\n",
       "      <th>0</th>\n",
       "      <td>credit_card</td>\n",
       "      <td>purchase order day shipping amount receive pro...</td>\n",
       "    </tr>\n",
       "    <tr>\n",
       "      <th>1</th>\n",
       "      <td>credit_card</td>\n",
       "      <td>forwarded message date tue subject please inve...</td>\n",
       "    </tr>\n",
       "    <tr>\n",
       "      <th>2</th>\n",
       "      <td>retail_banking</td>\n",
       "      <td>forwarded message cc sent friday pdt subject f...</td>\n",
       "    </tr>\n",
       "    <tr>\n",
       "      <th>3</th>\n",
       "      <td>credit_reporting</td>\n",
       "      <td>payment history missing credit report speciali...</td>\n",
       "    </tr>\n",
       "    <tr>\n",
       "      <th>4</th>\n",
       "      <td>credit_reporting</td>\n",
       "      <td>payment history missing credit report made mis...</td>\n",
       "    </tr>\n",
       "  </tbody>\n",
       "</table>\n",
       "</div>"
      ],
      "text/plain": [
       "            product                                              tweet\n",
       "0       credit_card  purchase order day shipping amount receive pro...\n",
       "1       credit_card  forwarded message date tue subject please inve...\n",
       "2    retail_banking  forwarded message cc sent friday pdt subject f...\n",
       "3  credit_reporting  payment history missing credit report speciali...\n",
       "4  credit_reporting  payment history missing credit report made mis..."
      ]
     },
     "execution_count": 3,
     "metadata": {},
     "output_type": "execute_result"
    }
   ],
   "source": [
    "# Renaming columns \n",
    "df = df.rename(columns={'narrative':'tweet' })\n",
    "\n",
    "# Removing SNo column\n",
    "df.drop(['Unnamed: 0'], axis=1, inplace=True)\n",
    "df.head()"
   ]
  },
  {
   "cell_type": "code",
   "execution_count": 4,
   "id": "ea41fe3b",
   "metadata": {},
   "outputs": [
    {
     "name": "stdout",
     "output_type": "stream",
     "text": [
      "* Size of dataframe: (162421, 2)\n",
      "\n",
      "* Datatype of columns are:\n",
      " product    object\n",
      "tweet      object\n",
      "dtype: object\n",
      "\n",
      "* Count of different product categories:\n",
      " credit_reporting       91179\n",
      "debt_collection        23150\n",
      "mortgages_and_loans    18990\n",
      "credit_card            15566\n",
      "retail_banking         13536\n",
      "Name: product, dtype: int64\n",
      "\n",
      "* Number of NaNs among tweets are: 10\n",
      "\n"
     ]
    }
   ],
   "source": [
    "# Analysing dataframe attributes \n",
    "print('* Size of dataframe: {}\\n'.format(df.shape))\n",
    "print('* Datatype of columns are:\\n {}\\n'.format(df.dtypes))\n",
    "print('* Count of different product categories:\\n {}\\n'.format(df['product'].value_counts()))\n",
    "print('* Number of NaNs among tweets are: {}\\n'.format(df['tweet'].isnull().sum())) "
   ]
  },
  {
   "cell_type": "code",
   "execution_count": 5,
   "id": "dee0ec47",
   "metadata": {},
   "outputs": [
    {
     "name": "stdout",
     "output_type": "stream",
     "text": [
      "NaNs are removed from the dataframe. Number of NaNs can be confirmed to be 0. The size of dataframe has reduced to (162411, 2)\n"
     ]
    }
   ],
   "source": [
    "# Removing Null from dataset\n",
    "df = df.dropna(subset=['tweet'])\n",
    "print('NaNs are removed from the dataframe. Number of NaNs can be confirmed to be {}. The size of dataframe has reduced to {}'.format(df['tweet'].isnull().sum(), df.shape))"
   ]
  },
  {
   "cell_type": "code",
   "execution_count": 6,
   "id": "c8d524dc",
   "metadata": {},
   "outputs": [
    {
     "data": {
      "text/plain": [
       "[<matplotlib.lines.Line2D at 0x25076bb5fa0>]"
      ]
     },
     "execution_count": 6,
     "metadata": {},
     "output_type": "execute_result"
    },
    {
     "data": {
      "image/png": "[encoded data removed]",
      "text/plain": [
       "<Figure size 432x288 with 1 Axes>"
      ]
     },
     "metadata": {
      "needs_background": "light"
     },
     "output_type": "display_data"
    }
   ],
   "source": [
    "# Plotting Words Length of tweets\n",
    "word_length = [len(x) for x in df['tweet']]\n",
    "plt.plot(word_length)"
   ]
  },
  {
   "cell_type": "code",
   "execution_count": 7,
   "id": "82f2e127",
   "metadata": {},
   "outputs": [
    {
     "data": {
      "text/plain": [
       "credit_reporting       91172\n",
       "debt_collection        23148\n",
       "mortgages_and_loans    18990\n",
       "credit_card            15566\n",
       "retail_banking         13535\n",
       "Name: product, dtype: int64"
      ]
     },
     "execution_count": 7,
     "metadata": {},
     "output_type": "execute_result"
    }
   ],
   "source": [
    "# Converting Data type from sentences to string\n",
    "df['product'].value_counts()"
   ]
  },
  {
   "cell_type": "code",
   "execution_count": 8,
   "id": "7b9a47f1",
   "metadata": {},
   "outputs": [
    {
     "data": {
      "image/png": "[encoded data removed]",
      "text/plain": [
       "<Figure size 432x288 with 1 Axes>"
      ]
     },
     "metadata": {
      "needs_background": "light"
     },
     "output_type": "display_data"
    }
   ],
   "source": [
    "# Plotting product value counts\n",
    "df.groupby('product').count().plot(kind='bar')\n",
    "plt.show()"
   ]
  },
  {
   "cell_type": "markdown",
   "id": "993b10d3",
   "metadata": {},
   "source": [
    "Dataframe is <b>imbalanced</b>. We will improve the balance of the dataframe, because can improve <b>accuracy</b>."
   ]
  },
  {
   "cell_type": "markdown",
   "id": "3c1396cc",
   "metadata": {},
   "source": [
    "# **<span style=\"color:\t#F50C0C;\">2. Train-test Splitting</span>**"
   ]
  },
  {
   "cell_type": "code",
   "execution_count": 9,
   "id": "717a9ac0",
   "metadata": {},
   "outputs": [],
   "source": [
    "# Importing train test splilt library \n",
    "from sklearn.model_selection import train_test_split\n",
    "\n",
    "# Train-Test Splitting\n",
    "train_data, test_data = train_test_split(df, test_size = 0.20)"
   ]
  },
  {
   "cell_type": "code",
   "execution_count": 10,
   "id": "1c1f35a2",
   "metadata": {},
   "outputs": [
    {
     "data": {
      "text/plain": [
       "((129928, 2), (32483, 2))"
      ]
     },
     "execution_count": 10,
     "metadata": {},
     "output_type": "execute_result"
    }
   ],
   "source": [
    "# Train and test data dimensions\n",
    "train_data.shape, test_data.shape"
   ]
  },
  {
   "cell_type": "code",
   "execution_count": 11,
   "id": "916b8ade",
   "metadata": {},
   "outputs": [
    {
     "data": {
      "image/png": "[encoded data removed]",
      "text/plain": [
       "<Figure size 432x288 with 1 Axes>"
      ]
     },
     "metadata": {
      "needs_background": "light"
     },
     "output_type": "display_data"
    }
   ],
   "source": [
    "# Balance of train data\n",
    "train_data.groupby('product').count().plot(kind='bar')\n",
    "plt.show()"
   ]
  },
  {
   "cell_type": "markdown",
   "id": "53250c06",
   "metadata": {},
   "source": [
    "* credit_card, debt_collection, mortgages_and_loans, retail_banking columns consist of <b>very few values</b>. So, the values in these columns will be increased using <b>random oversampling</b>.\n",
    "* Oversampling is done in train set because this will prevent <b>data leakage</b> to test set.  "
   ]
  },
  {
   "cell_type": "markdown",
   "id": "ed99c46e",
   "metadata": {},
   "source": [
    "# **<span style=\"color:\t#F50C0C;\">3. Random Oversampling</span>**"
   ]
  },
  {
   "cell_type": "code",
   "execution_count": 12,
   "id": "d0538027",
   "metadata": {},
   "outputs": [
    {
     "data": {
      "text/html": [
       "<div>\n",
       "<style scoped>\n",
       "    .dataframe tbody tr th:only-of-type {\n",
       "        vertical-align: middle;\n",
       "    }\n",
       "\n",
       "    .dataframe tbody tr th {\n",
       "        vertical-align: top;\n",
       "    }\n",
       "\n",
       "    .dataframe thead th {\n",
       "        text-align: right;\n",
       "    }\n",
       "</style>\n",
       "<table border=\"1\" class=\"dataframe\">\n",
       "  <thead>\n",
       "    <tr style=\"text-align: right;\">\n",
       "      <th></th>\n",
       "      <th>tweet</th>\n",
       "    </tr>\n",
       "    <tr>\n",
       "      <th>product</th>\n",
       "      <th></th>\n",
       "    </tr>\n",
       "  </thead>\n",
       "  <tbody>\n",
       "    <tr>\n",
       "      <th>credit_card</th>\n",
       "      <td>12453</td>\n",
       "    </tr>\n",
       "    <tr>\n",
       "      <th>credit_reporting</th>\n",
       "      <td>72871</td>\n",
       "    </tr>\n",
       "    <tr>\n",
       "      <th>debt_collection</th>\n",
       "      <td>18524</td>\n",
       "    </tr>\n",
       "    <tr>\n",
       "      <th>mortgages_and_loans</th>\n",
       "      <td>15264</td>\n",
       "    </tr>\n",
       "    <tr>\n",
       "      <th>retail_banking</th>\n",
       "      <td>10816</td>\n",
       "    </tr>\n",
       "  </tbody>\n",
       "</table>\n",
       "</div>"
      ],
      "text/plain": [
       "                     tweet\n",
       "product                   \n",
       "credit_card          12453\n",
       "credit_reporting     72871\n",
       "debt_collection      18524\n",
       "mortgages_and_loans  15264\n",
       "retail_banking       10816"
      ]
     },
     "execution_count": 12,
     "metadata": {},
     "output_type": "execute_result"
    }
   ],
   "source": [
    "# Train set value counts \n",
    "train_data.groupby('product').count()"
   ]
  },
  {
   "cell_type": "code",
   "execution_count": 13,
   "id": "2350f169",
   "metadata": {},
   "outputs": [
    {
     "data": {
      "text/plain": [
       "28000"
      ]
     },
     "execution_count": 13,
     "metadata": {},
     "output_type": "execute_result"
    }
   ],
   "source": [
    "# Randomly selecting 7000 indices in classes with low value count\n",
    "import numpy as np\n",
    "to_add_1 = np.random.choice(train_data[train_data['product']=='credit_card'].index,size = 7000,replace=False)   \n",
    "to_add_2 = np.random.choice(train_data[train_data['product']=='debt_collection'].index,size = 7000,replace=False) \n",
    "to_add_3 = np.random.choice(train_data[train_data['product']=='mortgages_and_loans'].index,size = 7000,replace=False)  \n",
    "to_add_4 = np.random.choice(train_data[train_data['product']=='retail_banking'].index,size=7000,replace=False)\n",
    "\n",
    "# Indices to be added\n",
    "to_add = np.concatenate((to_add_1, to_add_2, to_add_3, to_add_4 ))\n",
    "len(to_add)"
   ]
  },
  {
   "cell_type": "code",
   "execution_count": 14,
   "id": "e3565f1d",
   "metadata": {},
   "outputs": [
    {
     "data": {
      "text/html": [
       "<div>\n",
       "<style scoped>\n",
       "    .dataframe tbody tr th:only-of-type {\n",
       "        vertical-align: middle;\n",
       "    }\n",
       "\n",
       "    .dataframe tbody tr th {\n",
       "        vertical-align: top;\n",
       "    }\n",
       "\n",
       "    .dataframe thead th {\n",
       "        text-align: right;\n",
       "    }\n",
       "</style>\n",
       "<table border=\"1\" class=\"dataframe\">\n",
       "  <thead>\n",
       "    <tr style=\"text-align: right;\">\n",
       "      <th></th>\n",
       "      <th>product</th>\n",
       "      <th>tweet</th>\n",
       "    </tr>\n",
       "  </thead>\n",
       "  <tbody>\n",
       "    <tr>\n",
       "      <th>71482</th>\n",
       "      <td>retail_banking</td>\n",
       "      <td>received promotion offering opening checking a...</td>\n",
       "    </tr>\n",
       "    <tr>\n",
       "      <th>126788</th>\n",
       "      <td>debt_collection</td>\n",
       "      <td>account removed reinserted back onto credit re...</td>\n",
       "    </tr>\n",
       "    <tr>\n",
       "      <th>147100</th>\n",
       "      <td>credit_card</td>\n",
       "      <td>update without warning chase took away reward ...</td>\n",
       "    </tr>\n",
       "    <tr>\n",
       "      <th>13925</th>\n",
       "      <td>credit_card</td>\n",
       "      <td>currently business account well fargo llc sinc...</td>\n",
       "    </tr>\n",
       "    <tr>\n",
       "      <th>6244</th>\n",
       "      <td>credit_card</td>\n",
       "      <td>american express aggressively campaigned exist...</td>\n",
       "    </tr>\n",
       "    <tr>\n",
       "      <th>...</th>\n",
       "      <td>...</td>\n",
       "      <td>...</td>\n",
       "    </tr>\n",
       "    <tr>\n",
       "      <th>67441</th>\n",
       "      <td>mortgages_and_loans</td>\n",
       "      <td>paid car loan ally auto received email stating...</td>\n",
       "    </tr>\n",
       "    <tr>\n",
       "      <th>144149</th>\n",
       "      <td>mortgages_and_loans</td>\n",
       "      <td>may concern financed motorcycle yamaha dealer ...</td>\n",
       "    </tr>\n",
       "    <tr>\n",
       "      <th>97161</th>\n",
       "      <td>credit_card</td>\n",
       "      <td>bill due paid full statement closed day later ...</td>\n",
       "    </tr>\n",
       "    <tr>\n",
       "      <th>140558</th>\n",
       "      <td>credit_card</td>\n",
       "      <td>regard credit card account number ending previ...</td>\n",
       "    </tr>\n",
       "    <tr>\n",
       "      <th>149371</th>\n",
       "      <td>retail_banking</td>\n",
       "      <td>well fargo bank sent message telling unusual a...</td>\n",
       "    </tr>\n",
       "  </tbody>\n",
       "</table>\n",
       "<p>28000 rows × 2 columns</p>\n",
       "</div>"
      ],
      "text/plain": [
       "                    product                                              tweet\n",
       "71482        retail_banking  received promotion offering opening checking a...\n",
       "126788      debt_collection  account removed reinserted back onto credit re...\n",
       "147100          credit_card  update without warning chase took away reward ...\n",
       "13925           credit_card  currently business account well fargo llc sinc...\n",
       "6244            credit_card  american express aggressively campaigned exist...\n",
       "...                     ...                                                ...\n",
       "67441   mortgages_and_loans  paid car loan ally auto received email stating...\n",
       "144149  mortgages_and_loans  may concern financed motorcycle yamaha dealer ...\n",
       "97161           credit_card  bill due paid full statement closed day later ...\n",
       "140558          credit_card  regard credit card account number ending previ...\n",
       "149371       retail_banking  well fargo bank sent message telling unusual a...\n",
       "\n",
       "[28000 rows x 2 columns]"
      ]
     },
     "execution_count": 14,
     "metadata": {},
     "output_type": "execute_result"
    }
   ],
   "source": [
    "# Forming a dataframe for randomly selected indices\n",
    "df_replicate = train_data[train_data.index.isin(to_add)]\n",
    "df_replicate  "
   ]
  },
  {
   "cell_type": "code",
   "execution_count": 15,
   "id": "651ddf5a",
   "metadata": {},
   "outputs": [
    {
     "data": {
      "text/plain": [
       "credit_reporting       72871\n",
       "debt_collection        25524\n",
       "mortgages_and_loans    22264\n",
       "credit_card            19453\n",
       "retail_banking         17816\n",
       "Name: product, dtype: int64"
      ]
     },
     "execution_count": 15,
     "metadata": {},
     "output_type": "execute_result"
    }
   ],
   "source": [
    "# Aggregating replicated df to orinigal df\n",
    "train_data = pd.concat([train_data, df_replicate])\n",
    "train_data['product'].value_counts()"
   ]
  },
  {
   "cell_type": "markdown",
   "id": "400c509a",
   "metadata": {},
   "source": [
    "As we can see, The Value counts of minority classes have <b>increased</b>. "
   ]
  },
  {
   "cell_type": "markdown",
   "id": "78dcd2b7",
   "metadata": {},
   "source": [
    "# **<span style=\"color:\t#F50C0C;\">4. Text Pre-Processing</span>**"
   ]
  },
  {
   "cell_type": "code",
   "execution_count": 16,
   "id": "a6e5bcdc",
   "metadata": {},
   "outputs": [],
   "source": [
    "# Importing NLTK Libraries\n",
    "import nltk\n",
    "from nltk.corpus import stopwords\n",
    "from nltk import *"
   ]
  },
  {
   "cell_type": "code",
   "execution_count": 17,
   "id": "4d60fc76",
   "metadata": {},
   "outputs": [],
   "source": [
    "# Declaring function for text preprocessing \n",
    "\n",
    "def preprocess_text(main_df):\n",
    "  df_1 = main_df.copy()\n",
    "\n",
    "  # remove stopwords\n",
    "  nltk.download('stopwords')         # Downloading stopwords\n",
    "  stop = stopwords.words('english')  \n",
    "  df_1['tweet'] = df_1['tweet'].apply(lambda x: \" \".join(x for x in x.split() if x not in stop)) \n",
    "  \n",
    "  # remove punctuations and convert to lower case\n",
    "  df_1['tweet'] = df_1['tweet'].apply(lambda x: re.sub('[!@#$:).;,?&]', '', x.lower()))\n",
    "  \n",
    "  # remove double spaces\n",
    "  df_1['tweet'] = df_1['tweet'].apply(lambda x: re.sub(' ', ' ', x))\n",
    "\n",
    "  return df_1  "
   ]
  },
  {
   "cell_type": "code",
   "execution_count": 18,
   "id": "af031a25",
   "metadata": {},
   "outputs": [
    {
     "name": "stderr",
     "output_type": "stream",
     "text": [
      "[nltk_data] Downloading package stopwords to\n",
      "[nltk_data]     C:\\Users\\User\\AppData\\Roaming\\nltk_data...\n",
      "[nltk_data]   Unzipping corpora\\stopwords.zip.\n",
      "[nltk_data] Downloading package stopwords to\n",
      "[nltk_data]     C:\\Users\\User\\AppData\\Roaming\\nltk_data...\n",
      "[nltk_data]   Package stopwords is already up-to-date!\n"
     ]
    }
   ],
   "source": [
    "# Preprocessing training and test data \n",
    "train_data = preprocess_text(train_data)\n",
    "test_data = preprocess_text(test_data)"
   ]
  },
  {
   "cell_type": "code",
   "execution_count": 19,
   "id": "582f10ae",
   "metadata": {},
   "outputs": [
    {
     "data": {
      "text/plain": [
       "82112     notified hard inquiry credit report capital to...\n",
       "71482     received promotion offering opening checking a...\n",
       "126788    account removed reinserted back onto credit re...\n",
       "147100    update without warning chase took away reward ...\n",
       "136161    account paid reporting late payment also thats...\n",
       "Name: tweet, dtype: object"
      ]
     },
     "execution_count": 19,
     "metadata": {},
     "output_type": "execute_result"
    }
   ],
   "source": [
    "# Verifying text preprocessing\n",
    "train_data['tweet'].head()"
   ]
  },
  {
   "cell_type": "markdown",
   "id": "e50b55b0",
   "metadata": {},
   "source": [
    "# **<span style=\"color:\t#F50C0C;\">5. Label Encoding</span>**"
   ]
  },
  {
   "cell_type": "code",
   "execution_count": 20,
   "id": "e3cd17c4",
   "metadata": {},
   "outputs": [],
   "source": [
    "# Declaring train labels\n",
    "train_labels = train_data['product'] \n",
    "test_labels = test_data['product']"
   ]
  },
  {
   "cell_type": "code",
   "execution_count": 21,
   "id": "bf019f90",
   "metadata": {},
   "outputs": [
    {
     "name": "stdout",
     "output_type": "stream",
     "text": [
      "['credit_card' 'credit_reporting' 'debt_collection' 'mortgages_and_loans'\n",
      " 'retail_banking']\n",
      "(array([0, 1, 2, 3, 4]), array([19453, 72871, 25524, 22264, 17816], dtype=int64))\n",
      "(array([0, 1, 2, 3, 4]), array([ 3113, 18301,  4624,  3726,  2719], dtype=int64))\n"
     ]
    }
   ],
   "source": [
    "# Converting labels to numerical features\n",
    "import numpy as np\n",
    "from sklearn.preprocessing import LabelEncoder\n",
    "\n",
    "le = LabelEncoder()\n",
    "le.fit(train_labels)\n",
    "train_labels = le.transform(train_labels)\n",
    "test_labels = le.transform(test_labels)\n",
    "\n",
    "print(le.classes_)\n",
    "print(np.unique(train_labels, return_counts=True))\n",
    "print(np.unique(test_labels, return_counts=True))"
   ]
  },
  {
   "cell_type": "code",
   "execution_count": 22,
   "id": "3e461e8b",
   "metadata": {},
   "outputs": [],
   "source": [
    "# Changing labels to categorical features\n",
    "import numpy as np\n",
    "from tensorflow.python.keras.utils import np_utils\n",
    "from tensorflow.keras.utils import to_categorical\n",
    "import numpy as np\n",
    "\n",
    "train_labels = to_categorical(np.asarray(train_labels))\n",
    "test_labels = to_categorical(np.array(test_labels))"
   ]
  },
  {
   "cell_type": "markdown",
   "id": "0aa974c3",
   "metadata": {},
   "source": [
    "# **<span style=\"color:\t#F50C0C;\">6. Tokenizing Sentences and Fixing Sentence length</span>**"
   ]
  },
  {
   "cell_type": "code",
   "execution_count": 23,
   "id": "94b2ac38",
   "metadata": {},
   "outputs": [],
   "source": [
    "from tensorflow.keras.preprocessing.text import Tokenizer\n",
    "\n",
    "# Defining training parameters\n",
    "max_sequence_length = 170   \n",
    "max_words = 2500   \n",
    "\n",
    "# Tokenizing tweets/sentences wrt num_words\n",
    "tokenizer = Tokenizer(num_words = max_words)  # Selects most frequent words \n",
    "tokenizer.fit_on_texts(train_data.tweet)      # Develops internal vocab based on training text\n",
    "train_sequences = tokenizer.texts_to_sequences(train_data.tweet)  # converts text to sequence\n",
    "\n",
    "test_sequences = tokenizer.texts_to_sequences(test_data.tweet)"
   ]
  },
  {
   "cell_type": "code",
   "execution_count": 24,
   "id": "ac71b9de",
   "metadata": {},
   "outputs": [
    {
     "data": {
      "text/plain": [
       "((157928, 170), (32483, 170))"
      ]
     },
     "execution_count": 24,
     "metadata": {},
     "output_type": "execute_result"
    }
   ],
   "source": [
    "# Fixing the sequence length \n",
    "from tensorflow.keras.preprocessing.sequence import pad_sequences\n",
    "train_data = pad_sequences(train_sequences, maxlen = max_sequence_length)\n",
    "test_data = pad_sequences(test_sequences, maxlen = max_sequence_length)\n",
    "train_data.shape, test_data.shape"
   ]
  },
  {
   "cell_type": "markdown",
   "id": "b68d5491",
   "metadata": {},
   "source": [
    "# **<span style=\"color:\t#F50C0C;\">7. Using Bi-LSTM Model</span>**"
   ]
  },
  {
   "cell_type": "markdown",
   "id": "4cad8f1b",
   "metadata": {},
   "source": [
    "## # 7.1 Initializing Model "
   ]
  },
  {
   "cell_type": "code",
   "execution_count": 25,
   "id": "77fbd084",
   "metadata": {},
   "outputs": [],
   "source": [
    "# Importing Libraries\n",
    "\n",
    "import tensorflow as tf\n",
    "import sys, os, re, csv, codecs, numpy as np, pandas as pd\n",
    "from tensorflow.keras.layers import Dense, Input, LSTM, Embedding, Dropout, Activation\n",
    "from tensorflow.keras.layers import Bidirectional, GlobalMaxPool1D, Conv1D, SimpleRNN\n",
    "from tensorflow.keras.models import Model\n",
    "from tensorflow.keras.models import Sequential\n",
    "from tensorflow.keras import initializers, regularizers, constraints, optimizers, layers\n",
    "from tensorflow.keras.layers import Dense, Input, Input, Flatten, Dropout, BatchNormalization\n",
    "from tensorflow.keras.layers import Conv1D, MaxPooling1D, Embedding "
   ]
  },
  {
   "cell_type": "code",
   "execution_count": 26,
   "id": "ba789772",
   "metadata": {},
   "outputs": [
    {
     "name": "stdout",
     "output_type": "stream",
     "text": [
      "Model: \"sequential\"\n",
      "_________________________________________________________________\n",
      " Layer (type)                Output Shape              Param #   \n",
      "=================================================================\n",
      " embedding (Embedding)       (None, 170, 32)           80000     \n",
      "                                                                 \n",
      " bidirectional (Bidirectiona  (None, 170, 32)          6272      \n",
      " l)                                                              \n",
      "                                                                 \n",
      " global_max_pooling1d (Globa  (None, 32)               0         \n",
      " lMaxPooling1D)                                                  \n",
      "                                                                 \n",
      " dense (Dense)               (None, 5)                 165       \n",
      "                                                                 \n",
      "=================================================================\n",
      "Total params: 86,437\n",
      "Trainable params: 86,437\n",
      "Non-trainable params: 0\n",
      "_________________________________________________________________\n"
     ]
    }
   ],
   "source": [
    "embedding_dim = 32  \n",
    "\n",
    "# Model Training\n",
    "model = Sequential()\n",
    "model.add(Embedding(max_words, \n",
    "                   embedding_dim,\n",
    "                   input_length=max_sequence_length))\n",
    "\n",
    "# Bidirectional LSTM \n",
    "model.add(Bidirectional(LSTM(16, return_sequences=True, dropout=0.4, recurrent_dropout=0)))   \n",
    "\n",
    "model.add(GlobalMaxPool1D())\n",
    "\n",
    "model.add(Dense(5,activation='softmax'))  \n",
    "\n",
    "model.summary()"
   ]
  },
  {
   "cell_type": "markdown",
   "id": "6f8019c9",
   "metadata": {},
   "source": [
    "## 7.2 Training and Validating Model"
   ]
  },
  {
   "cell_type": "code",
   "execution_count": 28,
   "id": "28f15e9c",
   "metadata": {},
   "outputs": [],
   "source": [
    "model.compile(loss = 'binary_crossentropy', optimizer='RMSProp', metrics = ['accuracy'])   "
   ]
  },
  {
   "cell_type": "code",
   "execution_count": 29,
   "id": "4602889c",
   "metadata": {},
   "outputs": [
    {
     "name": "stdout",
     "output_type": "stream",
     "text": [
      "Epoch 1/20\n",
      "3291/3291 [==============================] - 1159s 346ms/step - loss: 1.0129 - accuracy: 0.6922 - val_loss: 0.1676 - val_accuracy: 0.8458\n",
      "Epoch 2/20\n",
      "3291/3291 [==============================] - 1384s 421ms/step - loss: 0.6162 - accuracy: 0.8445 - val_loss: 0.1458 - val_accuracy: 0.8622\n",
      "Epoch 3/20\n",
      "3291/3291 [==============================] - 1132s 344ms/step - loss: 0.5679 - accuracy: 0.8565 - val_loss: 0.1399 - val_accuracy: 0.8693\n",
      "Epoch 4/20\n",
      "3291/3291 [==============================] - 879s 267ms/step - loss: 0.5478 - accuracy: 0.8613 - val_loss: 0.1395 - val_accuracy: 0.8692\n",
      "Epoch 5/20\n",
      "3291/3291 [==============================] - 813s 247ms/step - loss: 0.5368 - accuracy: 0.8638 - val_loss: 0.1372 - val_accuracy: 0.8709\n",
      "Epoch 6/20\n",
      "3291/3291 [==============================] - 825s 251ms/step - loss: 0.5289 - accuracy: 0.8658 - val_loss: 0.1355 - val_accuracy: 0.8723\n",
      "Epoch 7/20\n",
      "3291/3291 [==============================] - 879s 267ms/step - loss: 0.5215 - accuracy: 0.8677 - val_loss: 0.1360 - val_accuracy: 0.8721\n",
      "Epoch 8/20\n",
      "3291/3291 [==============================] - 811s 247ms/step - loss: 0.5168 - accuracy: 0.8688 - val_loss: 0.1354 - val_accuracy: 0.8718\n",
      "Epoch 9/20\n",
      "3291/3291 [==============================] - 814s 247ms/step - loss: 0.5125 - accuracy: 0.8691 - val_loss: 0.1357 - val_accuracy: 0.8712\n",
      "Epoch 10/20\n",
      "3291/3291 [==============================] - 814s 247ms/step - loss: 0.5074 - accuracy: 0.8710 - val_loss: 0.1361 - val_accuracy: 0.8707\n",
      "Epoch 11/20\n",
      "3291/3291 [==============================] - 814s 247ms/step - loss: 0.5056 - accuracy: 0.8716 - val_loss: 0.1334 - val_accuracy: 0.8756\n",
      "Epoch 12/20\n",
      "3291/3291 [==============================] - 815s 248ms/step - loss: 0.5025 - accuracy: 0.8722 - val_loss: 0.1340 - val_accuracy: 0.8741\n",
      "Epoch 13/20\n",
      "3291/3291 [==============================] - 812s 247ms/step - loss: 0.4988 - accuracy: 0.8721 - val_loss: 0.1363 - val_accuracy: 0.8749\n",
      "Epoch 14/20\n",
      "3291/3291 [==============================] - 811s 246ms/step - loss: 0.4968 - accuracy: 0.8739 - val_loss: 0.1333 - val_accuracy: 0.8770\n",
      "Epoch 15/20\n",
      "3291/3291 [==============================] - 811s 246ms/step - loss: 0.4951 - accuracy: 0.8746 - val_loss: 0.1347 - val_accuracy: 0.8726\n",
      "Epoch 16/20\n",
      "3291/3291 [==============================] - 814s 247ms/step - loss: 0.4924 - accuracy: 0.8748 - val_loss: 0.1328 - val_accuracy: 0.8737\n",
      "Epoch 17/20\n",
      "3291/3291 [==============================] - 807s 245ms/step - loss: 0.4911 - accuracy: 0.8754 - val_loss: 0.1313 - val_accuracy: 0.8779\n",
      "Epoch 18/20\n",
      "3291/3291 [==============================] - 814s 247ms/step - loss: 0.4897 - accuracy: 0.8760 - val_loss: 0.1313 - val_accuracy: 0.8780\n",
      "Epoch 19/20\n",
      "3291/3291 [==============================] - 809s 246ms/step - loss: 0.4889 - accuracy: 0.8757 - val_loss: 0.1329 - val_accuracy: 0.8765\n",
      "Epoch 20/20\n",
      "3291/3291 [==============================] - 954s 290ms/step - loss: 0.4862 - accuracy: 0.8765 - val_loss: 0.1329 - val_accuracy: 0.8762\n"
     ]
    }
   ],
   "source": [
    "# declaring weights of product categories\n",
    "class_weight = {0: 4,          \n",
    "                1: 5,    \n",
    "                2: 3,      \n",
    "                3: 3,     \n",
    "                4: 4}      \n",
    "\n",
    "# training and validating model \n",
    "history = model.fit(train_data, train_labels, batch_size=48, epochs= 20, class_weight = class_weight, validation_data=(test_data, test_labels)) # best 89(now) or 48 or 60 epochs # default epochs = 23 # batch_size changed to 1 (takes 2.30hrs) from 16"
   ]
  },
  {
   "cell_type": "code",
   "execution_count": 30,
   "id": "32a6e831",
   "metadata": {},
   "outputs": [
    {
     "data": {
      "text/plain": [
       "array([[7.4018747e-01, 2.0526309e-01, 1.4532742e-02, 3.8987722e-02,\n",
       "        1.0290392e-03],\n",
       "       [1.3623352e-05, 2.1542461e-05, 5.6626963e-05, 9.9982327e-01,\n",
       "        8.5031941e-05],\n",
       "       [3.4250267e-04, 2.1626200e-03, 9.9737966e-01, 7.3328272e-05,\n",
       "        4.1900861e-05],\n",
       "       ...,\n",
       "       [1.6711398e-06, 9.9999154e-01, 5.6579993e-06, 1.0242768e-06,\n",
       "        1.5288389e-07],\n",
       "       [4.6758432e-06, 9.9993777e-01, 4.0257175e-05, 2.2025697e-06,\n",
       "        1.5197078e-05],\n",
       "       [3.4707721e-06, 6.2486592e-06, 1.4104297e-05, 9.9997246e-01,\n",
       "        3.8231105e-06]], dtype=float32)"
      ]
     },
     "execution_count": 30,
     "metadata": {},
     "output_type": "execute_result"
    }
   ],
   "source": [
    "# Prediction on Test Data\n",
    "predicted_bi_lstm = model.predict(test_data)\n",
    "predicted_bi_lstm"
   ]
  },
  {
   "cell_type": "markdown",
   "id": "7c0c3037",
   "metadata": {},
   "source": [
    "# **<span style=\"color:\t#F50C0C;\">8. Model Evaluation</span>**"
   ]
  },
  {
   "cell_type": "markdown",
   "id": "05de2526",
   "metadata": {},
   "source": [
    "## 8.1Model Performance Attributes"
   ]
  },
  {
   "cell_type": "code",
   "execution_count": 31,
   "id": "56ff9f6e",
   "metadata": {},
   "outputs": [
    {
     "name": "stdout",
     "output_type": "stream",
     "text": [
      "precision: [0.79569892 0.91877954 0.83706311 0.87091172 0.81342547]\n",
      "recall: [0.7844523  0.93459374 0.71993945 0.80756844 0.90915778]\n",
      "fscore: [0.79003559 0.92661917 0.77409604 0.83804484 0.85863147]\n",
      "support: [ 3113 18301  4624  3726  2719]\n",
      "################################\n",
      "              precision    recall  f1-score   support\n",
      "\n",
      "           0       0.80      0.78      0.79      3113\n",
      "           1       0.92      0.93      0.93     18301\n",
      "           2       0.84      0.72      0.77      4624\n",
      "           3       0.87      0.81      0.84      3726\n",
      "           4       0.81      0.91      0.86      2719\n",
      "\n",
      "   micro avg       0.88      0.87      0.88     32483\n",
      "   macro avg       0.85      0.83      0.84     32483\n",
      "weighted avg       0.88      0.87      0.88     32483\n",
      " samples avg       0.87      0.87      0.87     32483\n",
      "\n"
     ]
    },
    {
     "name": "stderr",
     "output_type": "stream",
     "text": [
      "c:\\users\\user\\appdata\\local\\programs\\python\\python38\\lib\\site-packages\\sklearn\\metrics\\_classification.py:1318: UndefinedMetricWarning: Precision and F-score are ill-defined and being set to 0.0 in samples with no predicted labels. Use `zero_division` parameter to control this behavior.\n",
      "  _warn_prf(average, modifier, msg_start, len(result))\n"
     ]
    }
   ],
   "source": [
    "import sklearn\n",
    "from sklearn.metrics import precision_recall_fscore_support as score\n",
    "precision, recall, fscore, support = score(test_labels, predicted_bi_lstm.round())\n",
    "\n",
    "print('precision: {}'.format(precision))\n",
    "print('recall: {}'.format(recall))\n",
    "print('fscore: {}'.format(fscore))\n",
    "print('support: {}'.format(support))\n",
    "print('################################')\n",
    "print(sklearn.metrics.classification_report(test_labels, predicted_bi_lstm.round()))"
   ]
  },
  {
   "cell_type": "markdown",
   "id": "c1226cf9",
   "metadata": {},
   "source": [
    "## 8.2 Model Performance with Epochs"
   ]
  },
  {
   "cell_type": "code",
   "execution_count": 32,
   "id": "a38424a7",
   "metadata": {},
   "outputs": [
    {
     "data": {
      "image/png": "[encoded data removed]",
      "text/plain": [
       "<Figure size 864x360 with 2 Axes>"
      ]
     },
     "metadata": {
      "needs_background": "light"
     },
     "output_type": "display_data"
    }
   ],
   "source": [
    "def accuracy_plot(history):\n",
    "    \n",
    "    fig, ax = plt.subplots(1, 2, figsize=(12,5))\n",
    "    \n",
    "    fig.suptitle('Model Performance with Epochs', fontsize = 16)\n",
    "    # Subplot 1 \n",
    "    ax[0].plot(history.history['accuracy'])\n",
    "    ax[0].plot(history.history['val_accuracy'])\n",
    "    ax[0].set_title('Model Accuracy', fontsize = 14)\n",
    "    ax[0].set_xlabel('Epochs', fontsize = 12)\n",
    "    ax[0].set_ylabel('Accuracy', fontsize = 12)\n",
    "    ax[0].legend(['train', 'validation'], loc='best')\n",
    "    \n",
    "    # Subplot 2\n",
    "    ax[1].plot(history.history['loss'])\n",
    "    ax[1].plot(history.history['val_loss'])\n",
    "    ax[1].set_title('Model Loss', fontsize = 14)\n",
    "    ax[1].set_xlabel('Epochs', fontsize = 12)\n",
    "    ax[1].set_ylabel('Loss', fontsize = 12)\n",
    "    ax[1].legend(['train', 'validation'], loc='best')\n",
    "    \n",
    "    \n",
    "accuracy_plot(history)"
   ]
  },
  {
   "cell_type": "markdown",
   "id": "1a796df8",
   "metadata": {},
   "source": [
    "## 8.3 Confusion Matrix"
   ]
  },
  {
   "cell_type": "code",
   "execution_count": 33,
   "id": "9ca6116b",
   "metadata": {},
   "outputs": [
    {
     "data": {
      "image/png": "[encoded data removed]",
      "text/plain": [
       "<Figure size 864x576 with 2 Axes>"
      ]
     },
     "metadata": {
      "needs_background": "light"
     },
     "output_type": "display_data"
    }
   ],
   "source": [
    "# Declaring function for plotting confusion matrix\n",
    "import seaborn as sns\n",
    "from sklearn.metrics import confusion_matrix\n",
    "\n",
    "def plot_cm(model, test_data, test_labels):\n",
    "    \n",
    "    products = ['Credit Card', 'Credit Reporting', 'Debt Collection', 'Mortgages \\nand Loans', 'Retail Banking']\n",
    "        \n",
    "    # Calculate predictions\n",
    "    pred = model.predict(test_data)\n",
    "    \n",
    "    # Declaring confusion matrix\n",
    "    cm = confusion_matrix(np.argmax(np.array(test_labels),axis=1), np.argmax(pred, axis=1))\n",
    "    \n",
    "    # Heat map labels\n",
    "\n",
    "    group_counts = ['{0:0.0f}'.format(value) for value in cm.flatten()]\n",
    "    group_percentages = ['{0:.2%}'.format(value) for value in cm.flatten()/np.sum(cm)]\n",
    "    \n",
    "    labels = [f\"{v2}\\n{v3}\" for v2, v3 in zip(group_counts, group_percentages)]\n",
    "    labels = np.asarray(labels).reshape(5,5)\n",
    "\n",
    "    # Plotting confusion matrix\n",
    "    plt.figure(figsize=(12,8))\n",
    "    \n",
    "    sns.heatmap(cm, cmap=plt.cm.Blues, annot=labels, annot_kws={\"size\": 15}, fmt = '',\n",
    "                xticklabels = products,\n",
    "                yticklabels = products)\n",
    "    \n",
    "    plt.xticks(fontsize = 12)\n",
    "    plt.yticks(fontsize = 12, rotation = 'horizontal')\n",
    "    plt.title('Confusion Matrix\\n', fontsize=19)\n",
    "    plt.xlabel('Predicted Labels', fontsize=17)\n",
    "    plt.ylabel('Actual Labels', fontsize=17)\n",
    "    \n",
    "plot_cm(model, test_data, test_labels)"
   ]
  },
  {
   "cell_type": "markdown",
   "id": "244c8215",
   "metadata": {},
   "source": [
    "Model <b>accuracy</b> is verified with confusion matrix. The Model Loss is same with confusion matrix"
   ]
  },
  {
   "cell_type": "code",
   "execution_count": null,
   "id": "fe615348",
   "metadata": {},
   "outputs": [],
   "source": []
  }
 ],
 "metadata": {
  "kernelspec": {
   "display_name": "Python 3 (ipykernel)",
   "language": "python",
   "name": "python3"
  },
  "language_info": {
   "codemirror_mode": {
    "name": "ipython",
    "version": 3
   },
   "file_extension": ".py",
   "mimetype": "text/x-python",
   "name": "python",
   "nbconvert_exporter": "python",
   "pygments_lexer": "ipython3",
   "version": "3.8.10"
  }
 },
 "nbformat": 4,
 "nbformat_minor": 5
}
